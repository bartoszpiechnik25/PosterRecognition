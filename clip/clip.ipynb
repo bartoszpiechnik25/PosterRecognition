{
 "cells": [
  {
   "cell_type": "markdown",
   "metadata": {},
   "source": [
    "### Contrastive Loss\n",
    "\n",
    "In this notebook I will explore the contrastive loss and will try to implement it for fine-tuning the CLIP model for my task.\n",
    "\n",
    "If it's sucessful, perhaps I will try to extend it to more classes.\n",
    "\n",
    "Contrastive loss will be implemented following the paper [Supervised Contrastive Learning](https://arxiv.org/pdf/2004.11362v5.pdf)."
   ]
  },
  {
   "cell_type": "code",
   "execution_count": 1,
   "metadata": {},
   "outputs": [],
   "source": [
    "import pandas as pd\n",
    "\n",
    "movies = pd.read_csv('../scraper/data/movies_with_posters_and_rich_desc.csv')"
   ]
  },
  {
   "cell_type": "code",
   "execution_count": 2,
   "metadata": {},
   "outputs": [],
   "source": [
    "#movies.loc[movies['imdb_id'] == 'tt0111161']\n",
    "id_to_name = {idx: movies.loc[movies['imdb_id'] == idx]['title'].values[0] for idx in movies['imdb_id']}\n"
   ]
  },
  {
   "cell_type": "code",
   "execution_count": 12,
   "metadata": {},
   "outputs": [
    {
     "data": {
      "text/html": [
       "<div>\n",
       "<style scoped>\n",
       "    .dataframe tbody tr th:only-of-type {\n",
       "        vertical-align: middle;\n",
       "    }\n",
       "\n",
       "    .dataframe tbody tr th {\n",
       "        vertical-align: top;\n",
       "    }\n",
       "\n",
       "    .dataframe thead th {\n",
       "        text-align: right;\n",
       "    }\n",
       "</style>\n",
       "<table border=\"1\" class=\"dataframe\">\n",
       "  <thead>\n",
       "    <tr style=\"text-align: right;\">\n",
       "      <th></th>\n",
       "      <th>imdb_id</th>\n",
       "      <th>plot_synopsis</th>\n",
       "      <th>tags</th>\n",
       "      <th>adult</th>\n",
       "      <th>belongs_to_collection</th>\n",
       "      <th>budget</th>\n",
       "      <th>genres</th>\n",
       "      <th>homepage</th>\n",
       "      <th>id</th>\n",
       "      <th>original_language</th>\n",
       "      <th>...</th>\n",
       "      <th>runtime</th>\n",
       "      <th>spoken_languages</th>\n",
       "      <th>status</th>\n",
       "      <th>tagline</th>\n",
       "      <th>video</th>\n",
       "      <th>vote_average</th>\n",
       "      <th>vote_count</th>\n",
       "      <th>num_description_tokens</th>\n",
       "      <th>title</th>\n",
       "      <th>poster_count</th>\n",
       "    </tr>\n",
       "  </thead>\n",
       "  <tbody>\n",
       "    <tr>\n",
       "      <th>2477</th>\n",
       "      <td>tt0371746</td>\n",
       "      <td>A convoy of military Humvees drives across the...</td>\n",
       "      <td>murder, cult, violence, flashback, good versus...</td>\n",
       "      <td>False</td>\n",
       "      <td>{'id': 131292, 'name': 'Iron Man Collection', ...</td>\n",
       "      <td>140000000</td>\n",
       "      <td>[{'id': 28, 'name': 'Action'}, {'id': 878, 'na...</td>\n",
       "      <td>http://www.ironmanmovie.com/</td>\n",
       "      <td>1726</td>\n",
       "      <td>en</td>\n",
       "      <td>...</td>\n",
       "      <td>126.0</td>\n",
       "      <td>[{'iso_639_1': 'en', 'name': 'English'}, {'iso...</td>\n",
       "      <td>Released</td>\n",
       "      <td>Heroes aren't born. They're built.</td>\n",
       "      <td>False</td>\n",
       "      <td>7.4</td>\n",
       "      <td>8951.0</td>\n",
       "      <td>3162</td>\n",
       "      <td>Iron Man</td>\n",
       "      <td>22.0</td>\n",
       "    </tr>\n",
       "    <tr>\n",
       "      <th>7096</th>\n",
       "      <td>tt0043678</td>\n",
       "      <td>Genius, billionaire, and playboy Tony Stark, w...</td>\n",
       "      <td>violence</td>\n",
       "      <td>False</td>\n",
       "      <td>NaN</td>\n",
       "      <td>0</td>\n",
       "      <td>[{'id': 18, 'name': 'Drama'}]</td>\n",
       "      <td>NaN</td>\n",
       "      <td>69592</td>\n",
       "      <td>en</td>\n",
       "      <td>...</td>\n",
       "      <td>81.0</td>\n",
       "      <td>[{'iso_639_1': 'en', 'name': 'English'}]</td>\n",
       "      <td>Released</td>\n",
       "      <td>He's all man in the ring -- or anywhere!</td>\n",
       "      <td>False</td>\n",
       "      <td>5.0</td>\n",
       "      <td>1.0</td>\n",
       "      <td>679</td>\n",
       "      <td>Iron Man</td>\n",
       "      <td>2.0</td>\n",
       "    </tr>\n",
       "  </tbody>\n",
       "</table>\n",
       "<p>2 rows × 28 columns</p>\n",
       "</div>"
      ],
      "text/plain": [
       "        imdb_id                                      plot_synopsis   \n",
       "2477  tt0371746  A convoy of military Humvees drives across the...  \\\n",
       "7096  tt0043678  Genius, billionaire, and playboy Tony Stark, w...   \n",
       "\n",
       "                                                   tags  adult   \n",
       "2477  murder, cult, violence, flashback, good versus...  False  \\\n",
       "7096                                           violence  False   \n",
       "\n",
       "                                  belongs_to_collection     budget   \n",
       "2477  {'id': 131292, 'name': 'Iron Man Collection', ...  140000000  \\\n",
       "7096                                                NaN          0   \n",
       "\n",
       "                                                 genres   \n",
       "2477  [{'id': 28, 'name': 'Action'}, {'id': 878, 'na...  \\\n",
       "7096                      [{'id': 18, 'name': 'Drama'}]   \n",
       "\n",
       "                          homepage     id original_language  ... runtime   \n",
       "2477  http://www.ironmanmovie.com/   1726                en  ...   126.0  \\\n",
       "7096                           NaN  69592                en  ...    81.0   \n",
       "\n",
       "                                       spoken_languages    status   \n",
       "2477  [{'iso_639_1': 'en', 'name': 'English'}, {'iso...  Released  \\\n",
       "7096           [{'iso_639_1': 'en', 'name': 'English'}]  Released   \n",
       "\n",
       "                                       tagline  video vote_average vote_count   \n",
       "2477        Heroes aren't born. They're built.  False          7.4     8951.0  \\\n",
       "7096  He's all man in the ring -- or anywhere!  False          5.0        1.0   \n",
       "\n",
       "      num_description_tokens     title poster_count  \n",
       "2477                    3162  Iron Man         22.0  \n",
       "7096                     679  Iron Man          2.0  \n",
       "\n",
       "[2 rows x 28 columns]"
      ]
     },
     "execution_count": 12,
     "metadata": {},
     "output_type": "execute_result"
    }
   ],
   "source": [
    "movies.loc[movies['title'] == 'Iron Man']"
   ]
  },
  {
   "cell_type": "code",
   "execution_count": 3,
   "metadata": {},
   "outputs": [
    {
     "name": "stderr",
     "output_type": "stream",
     "text": [
      "/home/barti/miniconda3/envs/pytorch/lib/python3.10/site-packages/tqdm/auto.py:21: TqdmWarning: IProgress not found. Please update jupyter and ipywidgets. See https://ipywidgets.readthedocs.io/en/stable/user_install.html\n",
      "  from .autonotebook import tqdm as notebook_tqdm\n",
      "/home/barti/miniconda3/envs/pytorch/lib/python3.10/site-packages/torch/cuda/__init__.py:107: UserWarning: CUDA initialization: CUDA unknown error - this may be due to an incorrectly set up environment, e.g. changing env variable CUDA_VISIBLE_DEVICES after program start. Setting the available devices to be zero. (Triggered internally at ../c10/cuda/CUDAFunctions.cpp:109.)\n",
      "  return torch._C._cuda_getDeviceCount() > 0\n"
     ]
    }
   ],
   "source": [
    "from transformers import CLIPProcessor, CLIPModel\n",
    "import torch, os\n",
    "\n",
    "device = torch.device(\"cuda\" if torch.cuda.is_available() else \"cpu\")\n",
    "model = CLIPModel.from_pretrained(\"openai/clip-vit-base-patch32\").to(device)\n",
    "processor = CLIPProcessor.from_pretrained(\"openai/clip-vit-base-patch32\")"
   ]
  },
  {
   "cell_type": "code",
   "execution_count": 4,
   "metadata": {},
   "outputs": [
    {
     "name": "stdout",
     "output_type": "stream",
     "text": [
      "{'0.8266': 'horror', '0.0688': 'thriler', '0.0542': 'comedy', '0.0134': 'romance', '0.0369': 'adventure'}\n"
     ]
    }
   ],
   "source": [
    "import random\n",
    "from PIL import Image\n",
    "\n",
    "cls = 'tt0013442'\n",
    "prompt = \"{}\"\n",
    "img = \"/home/barti/PosterRecognition/scraper/data/posters/tt0013442/train/9vp3ml7IMVg4rZ5xlhOflPYehAQ.jpg\"\n",
    "\n",
    "imdb_ids = os.listdir(\"../scraper/data/posters/\")\n",
    "imdb_ids.remove(cls)\n",
    "# random.shuffle(imdb_ids)\n",
    "\n",
    "classes = list(map(lambda item: prompt.format(id_to_name[item]), random.choices(imdb_ids, k=1000)))\n",
    "classes.append(prompt.format(id_to_name[cls]))\n",
    "\n",
    "img = Image.open(img)\n",
    "a = ['horror', 'thriler', 'comedy', 'romance', 'adventure']\n",
    "\n",
    "inputs = processor(text=a, images=img, return_tensors=\"pt\", padding=True)\n",
    "inputs.to(device)\n",
    "outputs = model(**inputs)\n",
    "\n",
    "logits_per_image = outputs.logits_per_image\n",
    "probs = logits_per_image.softmax(dim=1)\n",
    "print({f\"{prob.item():.4f}\": a[idx] for idx, prob in enumerate(probs[0])})\n",
    "# values, indices = probs[0].topk(5)\n",
    "\n",
    "# for value, index in zip(values, indices):\n",
    "#     print(f\"{value:.5f}: {classes[index]}\")\n",
    "\n",
    "# print(\"Predicted class:\", classes[indices[0]])\n"
   ]
  },
  {
   "cell_type": "code",
   "execution_count": 16,
   "metadata": {},
   "outputs": [
    {
     "name": "stderr",
     "output_type": "stream",
     "text": [
      "Some weights of the model checkpoint at openai/clip-vit-base-patch32 were not used when initializing CLIPTextModel: ['vision_model.encoder.layers.6.self_attn.q_proj.bias', 'vision_model.encoder.layers.11.self_attn.k_proj.bias', 'vision_model.encoder.layers.4.mlp.fc2.bias', 'vision_model.encoder.layers.7.self_attn.out_proj.weight', 'vision_model.encoder.layers.4.self_attn.v_proj.bias', 'vision_model.encoder.layers.6.self_attn.out_proj.weight', 'vision_model.encoder.layers.2.self_attn.out_proj.weight', 'vision_model.encoder.layers.6.self_attn.k_proj.bias', 'vision_model.encoder.layers.0.mlp.fc1.weight', 'vision_model.encoder.layers.2.self_attn.v_proj.bias', 'vision_model.encoder.layers.10.self_attn.v_proj.bias', 'vision_model.encoder.layers.4.self_attn.k_proj.bias', 'vision_model.encoder.layers.7.mlp.fc1.bias', 'vision_model.encoder.layers.6.mlp.fc1.bias', 'vision_model.encoder.layers.10.self_attn.v_proj.weight', 'vision_model.encoder.layers.6.mlp.fc2.weight', 'vision_model.encoder.layers.10.mlp.fc2.bias', 'vision_model.encoder.layers.11.mlp.fc2.bias', 'vision_model.encoder.layers.10.mlp.fc1.bias', 'vision_model.encoder.layers.1.self_attn.out_proj.bias', 'vision_model.encoder.layers.2.mlp.fc2.bias', 'vision_model.encoder.layers.5.self_attn.k_proj.bias', 'vision_model.encoder.layers.8.self_attn.q_proj.weight', 'vision_model.encoder.layers.5.self_attn.out_proj.bias', 'vision_model.encoder.layers.3.layer_norm2.bias', 'vision_model.encoder.layers.5.self_attn.k_proj.weight', 'vision_model.encoder.layers.2.self_attn.v_proj.weight', 'vision_model.encoder.layers.6.layer_norm2.bias', 'vision_model.encoder.layers.4.self_attn.v_proj.weight', 'vision_model.encoder.layers.5.self_attn.out_proj.weight', 'vision_model.encoder.layers.11.mlp.fc1.weight', 'vision_model.encoder.layers.11.self_attn.out_proj.bias', 'vision_model.encoder.layers.3.self_attn.q_proj.weight', 'vision_model.encoder.layers.11.self_attn.q_proj.weight', 'vision_model.encoder.layers.5.layer_norm1.bias', 'vision_model.encoder.layers.3.mlp.fc2.bias', 'vision_model.encoder.layers.8.self_attn.v_proj.bias', 'vision_model.encoder.layers.0.mlp.fc2.weight', 'vision_model.encoder.layers.0.layer_norm1.bias', 'vision_model.encoder.layers.11.self_attn.q_proj.bias', 'vision_model.encoder.layers.3.self_attn.k_proj.bias', 'vision_model.encoder.layers.1.self_attn.q_proj.bias', 'vision_model.encoder.layers.6.layer_norm2.weight', 'vision_model.encoder.layers.8.layer_norm2.weight', 'vision_model.embeddings.patch_embedding.weight', 'vision_model.encoder.layers.8.mlp.fc2.bias', 'vision_model.encoder.layers.10.self_attn.k_proj.bias', 'vision_model.encoder.layers.5.self_attn.q_proj.weight', 'vision_model.encoder.layers.6.self_attn.q_proj.weight', 'vision_model.encoder.layers.7.self_attn.v_proj.weight', 'vision_model.encoder.layers.2.layer_norm2.bias', 'vision_model.encoder.layers.1.self_attn.out_proj.weight', 'vision_model.encoder.layers.11.layer_norm2.bias', 'vision_model.encoder.layers.6.self_attn.v_proj.bias', 'vision_model.encoder.layers.2.layer_norm1.weight', 'vision_model.encoder.layers.5.self_attn.v_proj.weight', 'vision_model.encoder.layers.7.layer_norm2.weight', 'vision_model.encoder.layers.9.self_attn.out_proj.weight', 'vision_model.encoder.layers.11.self_attn.v_proj.weight', 'vision_model.encoder.layers.4.layer_norm1.weight', 'vision_model.encoder.layers.2.layer_norm1.bias', 'vision_model.encoder.layers.5.mlp.fc2.weight', 'vision_model.encoder.layers.10.layer_norm1.bias', 'vision_model.encoder.layers.3.self_attn.q_proj.bias', 'vision_model.encoder.layers.5.self_attn.v_proj.bias', 'vision_model.encoder.layers.3.self_attn.out_proj.weight', 'vision_model.encoder.layers.0.self_attn.k_proj.bias', 'vision_model.encoder.layers.10.self_attn.out_proj.bias', 'vision_model.encoder.layers.0.self_attn.q_proj.bias', 'vision_model.encoder.layers.0.mlp.fc2.bias', 'vision_model.encoder.layers.10.layer_norm1.weight', 'text_projection.weight', 'vision_model.encoder.layers.9.layer_norm2.weight', 'vision_model.encoder.layers.11.mlp.fc2.weight', 'vision_model.encoder.layers.1.self_attn.v_proj.bias', 'vision_model.encoder.layers.7.self_attn.q_proj.weight', 'vision_model.encoder.layers.1.layer_norm1.bias', 'vision_model.pre_layrnorm.weight', 'vision_model.encoder.layers.9.layer_norm2.bias', 'vision_model.encoder.layers.7.layer_norm1.weight', 'vision_model.encoder.layers.9.self_attn.k_proj.bias', 'vision_model.encoder.layers.9.mlp.fc2.weight', 'vision_model.post_layernorm.bias', 'vision_model.encoder.layers.0.mlp.fc1.bias', 'vision_model.encoder.layers.10.self_attn.k_proj.weight', 'vision_model.encoder.layers.5.mlp.fc1.weight', 'vision_model.encoder.layers.0.layer_norm2.bias', 'vision_model.encoder.layers.0.self_attn.out_proj.weight', 'vision_model.encoder.layers.9.self_attn.v_proj.bias', 'vision_model.encoder.layers.11.self_attn.out_proj.weight', 'vision_model.encoder.layers.5.layer_norm2.bias', 'vision_model.encoder.layers.2.self_attn.k_proj.weight', 'vision_model.encoder.layers.3.layer_norm2.weight', 'vision_model.encoder.layers.9.mlp.fc1.bias', 'vision_model.encoder.layers.7.mlp.fc1.weight', 'vision_model.encoder.layers.11.mlp.fc1.bias', 'vision_model.encoder.layers.6.mlp.fc2.bias', 'vision_model.encoder.layers.8.self_attn.q_proj.bias', 'vision_model.encoder.layers.10.mlp.fc2.weight', 'vision_model.encoder.layers.11.self_attn.k_proj.weight', 'vision_model.encoder.layers.1.self_attn.q_proj.weight', 'vision_model.encoder.layers.2.self_attn.q_proj.weight', 'vision_model.encoder.layers.7.layer_norm2.bias', 'vision_model.encoder.layers.1.mlp.fc1.bias', 'vision_model.encoder.layers.7.mlp.fc2.weight', 'vision_model.encoder.layers.2.mlp.fc1.weight', 'vision_model.embeddings.position_ids', 'vision_model.encoder.layers.4.mlp.fc2.weight', 'vision_model.encoder.layers.10.self_attn.q_proj.bias', 'vision_model.encoder.layers.1.self_attn.v_proj.weight', 'vision_model.encoder.layers.10.mlp.fc1.weight', 'vision_model.encoder.layers.4.self_attn.k_proj.weight', 'vision_model.encoder.layers.4.mlp.fc1.weight', 'vision_model.encoder.layers.3.self_attn.k_proj.weight', 'vision_model.encoder.layers.7.self_attn.k_proj.bias', 'vision_model.encoder.layers.8.layer_norm2.bias', 'vision_model.encoder.layers.2.self_attn.out_proj.bias', 'vision_model.encoder.layers.3.self_attn.v_proj.weight', 'vision_model.encoder.layers.0.self_attn.v_proj.weight', 'vision_model.encoder.layers.6.layer_norm1.bias', 'vision_model.encoder.layers.0.self_attn.out_proj.bias', 'vision_model.encoder.layers.9.self_attn.q_proj.weight', 'vision_model.embeddings.class_embedding', 'vision_model.encoder.layers.9.layer_norm1.weight', 'vision_model.encoder.layers.11.self_attn.v_proj.bias', 'vision_model.encoder.layers.7.mlp.fc2.bias', 'vision_model.encoder.layers.8.self_attn.out_proj.bias', 'vision_model.encoder.layers.0.self_attn.v_proj.bias', 'vision_model.encoder.layers.2.self_attn.k_proj.bias', 'vision_model.embeddings.position_embedding.weight', 'vision_model.encoder.layers.1.self_attn.k_proj.weight', 'vision_model.encoder.layers.8.mlp.fc1.weight', 'vision_model.encoder.layers.3.mlp.fc2.weight', 'vision_model.encoder.layers.3.mlp.fc1.bias', 'vision_model.encoder.layers.11.layer_norm2.weight', 'vision_model.encoder.layers.10.self_attn.out_proj.weight', 'vision_model.encoder.layers.8.layer_norm1.weight', 'vision_model.encoder.layers.1.mlp.fc1.weight', 'vision_model.encoder.layers.4.layer_norm2.weight', 'vision_model.encoder.layers.3.layer_norm1.weight', 'vision_model.encoder.layers.8.self_attn.v_proj.weight', 'vision_model.encoder.layers.10.layer_norm2.bias', 'vision_model.encoder.layers.5.self_attn.q_proj.bias', 'vision_model.encoder.layers.5.layer_norm2.weight', 'vision_model.encoder.layers.1.layer_norm2.bias', 'vision_model.encoder.layers.3.layer_norm1.bias', 'vision_model.encoder.layers.0.self_attn.q_proj.weight', 'vision_model.encoder.layers.8.layer_norm1.bias', 'vision_model.encoder.layers.8.self_attn.k_proj.bias', 'vision_model.encoder.layers.6.layer_norm1.weight', 'vision_model.encoder.layers.2.mlp.fc1.bias', 'vision_model.encoder.layers.11.layer_norm1.weight', 'vision_model.encoder.layers.4.layer_norm1.bias', 'vision_model.encoder.layers.7.self_attn.out_proj.bias', 'vision_model.encoder.layers.11.layer_norm1.bias', 'vision_model.encoder.layers.2.mlp.fc2.weight', 'vision_model.encoder.layers.9.self_attn.k_proj.weight', 'vision_model.encoder.layers.3.mlp.fc1.weight', 'vision_model.encoder.layers.8.mlp.fc2.weight', 'vision_model.encoder.layers.6.mlp.fc1.weight', 'vision_model.encoder.layers.5.layer_norm1.weight', 'vision_model.encoder.layers.4.layer_norm2.bias', 'vision_model.encoder.layers.9.self_attn.q_proj.bias', 'vision_model.pre_layrnorm.bias', 'visual_projection.weight', 'vision_model.encoder.layers.10.layer_norm2.weight', 'vision_model.encoder.layers.9.self_attn.out_proj.bias', 'vision_model.encoder.layers.4.self_attn.out_proj.bias', 'vision_model.encoder.layers.2.layer_norm2.weight', 'vision_model.encoder.layers.5.mlp.fc1.bias', 'vision_model.encoder.layers.7.layer_norm1.bias', 'vision_model.encoder.layers.6.self_attn.k_proj.weight', 'vision_model.encoder.layers.0.self_attn.k_proj.weight', 'vision_model.encoder.layers.7.self_attn.v_proj.bias', 'vision_model.encoder.layers.3.self_attn.v_proj.bias', 'vision_model.encoder.layers.4.self_attn.q_proj.weight', 'vision_model.encoder.layers.1.self_attn.k_proj.bias', 'vision_model.encoder.layers.9.mlp.fc2.bias', 'vision_model.encoder.layers.2.self_attn.q_proj.bias', 'vision_model.encoder.layers.9.mlp.fc1.weight', 'vision_model.encoder.layers.1.mlp.fc2.weight', 'vision_model.encoder.layers.8.mlp.fc1.bias', 'logit_scale', 'vision_model.encoder.layers.7.self_attn.q_proj.bias', 'vision_model.encoder.layers.4.self_attn.out_proj.weight', 'vision_model.encoder.layers.1.layer_norm2.weight', 'vision_model.encoder.layers.1.layer_norm1.weight', 'vision_model.post_layernorm.weight', 'vision_model.encoder.layers.8.self_attn.out_proj.weight', 'vision_model.encoder.layers.1.mlp.fc2.bias', 'vision_model.encoder.layers.9.layer_norm1.bias', 'vision_model.encoder.layers.4.mlp.fc1.bias', 'vision_model.encoder.layers.4.self_attn.q_proj.bias', 'vision_model.encoder.layers.8.self_attn.k_proj.weight', 'vision_model.encoder.layers.6.self_attn.out_proj.bias', 'vision_model.encoder.layers.7.self_attn.k_proj.weight', 'vision_model.encoder.layers.10.self_attn.q_proj.weight', 'vision_model.encoder.layers.0.layer_norm2.weight', 'vision_model.encoder.layers.6.self_attn.v_proj.weight', 'vision_model.encoder.layers.9.self_attn.v_proj.weight', 'vision_model.encoder.layers.0.layer_norm1.weight', 'vision_model.encoder.layers.3.self_attn.out_proj.bias', 'vision_model.encoder.layers.5.mlp.fc2.bias']\n",
      "- This IS expected if you are initializing CLIPTextModel from the checkpoint of a model trained on another task or with another architecture (e.g. initializing a BertForSequenceClassification model from a BertForPreTraining model).\n",
      "- This IS NOT expected if you are initializing CLIPTextModel from the checkpoint of a model that you expect to be exactly identical (initializing a BertForSequenceClassification model from a BertForSequenceClassification model).\n"
     ]
    },
    {
     "name": "stdout",
     "output_type": "stream",
     "text": [
      "{'input_ids': tensor([[49406,   564, 11131,  4395,   340,   639, 28228, 17491, 21278,   345,\n",
      "         45833, 49407],\n",
      "        [49406,  2644,  6088, 49407, 49407, 49407, 49407, 49407, 49407, 49407,\n",
      "         49407, 49407]]), 'attention_mask': tensor([[1, 1, 1, 1, 1, 1, 1, 1, 1, 1, 1, 1],\n",
      "        [1, 1, 1, 1, 0, 0, 0, 0, 0, 0, 0, 0]])}\n",
      "<class 'transformers.tokenization_utils_base.BatchEncoding'>\n",
      "torch.Size([2, 512])\n",
      "512\n"
     ]
    }
   ],
   "source": [
    "from transformers import CLIPTextModel, CLIPConfig\n",
    "\n",
    "text_model = CLIPTextModel.from_pretrained(\"openai/clip-vit-base-patch32\")\n",
    "text_inputs = processor(text=['siema eniu dobry mudzin z afrika', 'eessa'], return_tensors=\"pt\", padding=True) \n",
    "print(text_inputs)\n",
    "print(type(text_inputs))\n",
    "text_inputs\n",
    "text_outputs = text_model(**text_inputs)\n",
    "print(text_outputs[1].shape)\n",
    "# assert text_outputs[1][0] == text_outputs.pooler_output[0]\n",
    "torch.equal(text_outputs[1], text_outputs.pooler_output)\n",
    "\n",
    "config = CLIPConfig.from_pretrained(\"openai/clip-vit-base-patch32\")\n",
    "\n",
    "print(config.text_config.projection_dim)"
   ]
  },
  {
   "cell_type": "code",
   "execution_count": 14,
   "metadata": {},
   "outputs": [],
   "source": [
    "path = \"/home/barti/PosterRecognition/scraper/data/posters/tt0114709/test/voln3hFAJwZUgcLdhvDmsjK6Lpq.jpg\""
   ]
  },
  {
   "cell_type": "code",
   "execution_count": 4,
   "metadata": {},
   "outputs": [
    {
     "name": "stderr",
     "output_type": "stream",
     "text": [
      "/home/barti/miniconda3/envs/pytorch/lib/python3.10/site-packages/tqdm/auto.py:21: TqdmWarning: IProgress not found. Please update jupyter and ipywidgets. See https://ipywidgets.readthedocs.io/en/stable/user_install.html\n",
      "  from .autonotebook import tqdm as notebook_tqdm\n"
     ]
    }
   ],
   "source": [
    "from transformers import CLIPModel, CLIPProcessor, CLIPTextModel\n",
    "import os, torch\n",
    "\n",
    "prompts = [f\"Poster of {name}\" for name in id_to_name.values()]\n",
    "\n",
    "clip_processor = CLIPProcessor.from_pretrained(\"openai/clip-vit-base-patch32\")\n",
    "# clip_text_model = CLIPTextModel.from_pretrained(\"openai/clip-vit-base-patch32\").to(\"cuda\")\n",
    "\n",
    "def cache_text_embeddings(classes, batch_size: int = 64) -> torch.Tensor:\n",
    "    # text_embeddings = [clip_text_model(\n",
    "    #     **clip_processor(text=classes[i:i+batch_size], return_tensors=\"pt\", padding=True).to(\"cuda\")).pooler_output\\\n",
    "    #     for i in range(0, len(classes), batch_size)]\n",
    "    text_embeddings = []\n",
    "    for i in range(0, len(classes), batch_size):\n",
    "        text_embeddings.append(**clip_processor(text=classes[i:i+batch_size],\n",
    "                                        return_tensors=\"pt\",\n",
    "                                        padding=True).to(\"cuda\"))\n",
    "    return torch.cat(text_embeddings, dim=0)\n",
    "\n",
    "# emb = cache_text_embeddings(prompts)\n",
    "a = clip_processor(text=prompts,\n",
    "                    return_tensors=\"pt\",\n",
    "                    padding=True).to('cuda')\n",
    "# model"
   ]
  },
  {
   "cell_type": "code",
   "execution_count": 3,
   "metadata": {},
   "outputs": [
    {
     "name": "stdout",
     "output_type": "stream",
     "text": [
      "torch.Size([9771, 1])\n",
      "Poster of a movie: TEKKEN tensor([0.4137], device='cuda:0')\n",
      "Poster of a movie: Ten Inch Hero tensor([0.3346], device='cuda:0')\n",
      "Poster of a movie: Teen Titans: Trouble in Tokyo tensor([0.3300], device='cuda:0')\n"
     ]
    }
   ],
   "source": [
    "from transformers import CLIPModel, CLIPProcessor, CLIPTextModel, CLIPVisionModel\n",
    "import os, torch\n",
    "from PIL import Image\n",
    "\n",
    "import pandas as pd\n",
    "\n",
    "movies = pd.read_csv('../scraper/data/movies_with_posters_and_rich_desc.csv')\n",
    "#movies.loc[movies['imdb_id'] == 'tt0111161']\n",
    "id_to_name = {idx: movies.loc[movies['imdb_id'] == idx]['title'].values[0] for idx in movies['imdb_id']}\n",
    "\n",
    "\n",
    "prompts = [f\"Poster of a movie: {name}\" for name in id_to_name.values()]\n",
    "\n",
    "clip_processor = CLIPProcessor.from_pretrained(\"openai/clip-vit-base-patch32\")\n",
    "# clip_text_model = CLIPTextModel.from_pretrained(\"openai/clip-vit-base-patch32\").to(\"cuda\")\n",
    "# clip_vision_model = CLIPVisionModel.from_pretrained(\"openai/clip-vit-base-patch32\").to('cuda')\n",
    "clip_model = CLIPModel.from_pretrained(\"openai/clip-vit-base-patch32\").to('cuda')\n",
    "\n",
    "for param in clip_model.parameters():\n",
    "    param.grad = None\n",
    "\n",
    "path = \"/home/barti/PosterRecognition/scraper/data/posters/tt0411951/test/xZ1LElNefMw4xnOxpzaSkQFzeZu.jpg\"\n",
    "\n",
    "img = Image.open(path)\n",
    "img = img.convert('RGB')\n",
    "\n",
    "def cache_text_embeddings(classes, batch_size: int = 512) -> torch.Tensor:\n",
    "    text_embeddings = []\n",
    "    for i in range(0, len(classes), batch_size):\n",
    "        text_embeddings.append(clip_model.get_text_features(**clip_processor(text=classes[i:i+batch_size],\n",
    "                                        return_tensors=\"pt\",\n",
    "                                        padding=True).to('cuda')).detach())\n",
    "    return text_embeddings\n",
    "\n",
    "text_emb = torch.cat(cache_text_embeddings(prompts), dim=0)\n",
    "\n",
    "img_emb = clip_model.get_image_features(**clip_processor(images=img,\n",
    "                                        return_tensors=\"pt\",\n",
    "                                        padding=True).to('cuda')).detach()\n",
    "\n",
    "text_emb = text_emb/text_emb.norm(p=2, dim=-1, keepdim=True)\n",
    "img_emb = img_emb/img_emb.norm(p=2, dim=-1, keepdim=True)\n",
    "logits = torch.matmul(text_emb, img_emb.T) * torch.exp(torch.tensor([0.1], device='cuda'))\n",
    "\n",
    "print(logits.shape)\n",
    "\n",
    "values, indices = logits.topk(3, dim=0)\n",
    "for i, idx in enumerate(indices):\n",
    "    print(prompts[idx], values[i])\n"
   ]
  }
 ],
 "metadata": {
  "kernelspec": {
   "display_name": "pytorch",
   "language": "python",
   "name": "python3"
  },
  "language_info": {
   "codemirror_mode": {
    "name": "ipython",
    "version": 3
   },
   "file_extension": ".py",
   "mimetype": "text/x-python",
   "name": "python",
   "nbconvert_exporter": "python",
   "pygments_lexer": "ipython3",
   "version": "3.10.11"
  },
  "orig_nbformat": 4
 },
 "nbformat": 4,
 "nbformat_minor": 2
}
