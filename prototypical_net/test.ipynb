{
 "cells": [
  {
   "cell_type": "code",
   "execution_count": 2,
   "metadata": {},
   "outputs": [
    {
     "data": {
      "text/plain": [
       "tensor([[1., 1., 1., 1., 1., 1., 1., 1., 1., 1.],\n",
       "        [1., 1., 1., 1., 1., 1., 1., 1., 1., 1.],\n",
       "        [0., 0., 0., 0., 0., 0., 0., 0., 0., 0.],\n",
       "        [0., 0., 0., 0., 0., 0., 0., 0., 0., 0.],\n",
       "        [0., 0., 0., 0., 0., 0., 0., 0., 0., 0.],\n",
       "        [0., 0., 0., 0., 0., 0., 0., 0., 0., 0.],\n",
       "        [1., 1., 1., 1., 1., 1., 1., 1., 1., 1.],\n",
       "        [0., 0., 0., 0., 0., 0., 0., 0., 0., 0.],\n",
       "        [0., 0., 0., 0., 0., 0., 0., 0., 0., 0.],\n",
       "        [1., 1., 1., 1., 1., 1., 1., 1., 1., 1.]])"
      ]
     },
     "execution_count": 2,
     "metadata": {},
     "output_type": "execute_result"
    }
   ],
   "source": [
    "import torch\n",
    "\n",
    "a = torch.zeros((10, 10))\n",
    "\n",
    "t = torch.tensor([[0, 1, 6, 9]])\n",
    "\n",
    "a[t] = 1\n",
    "a"
   ]
  },
  {
   "cell_type": "code",
   "execution_count": 3,
   "metadata": {},
   "outputs": [
    {
     "name": "stderr",
     "output_type": "stream",
     "text": [
      "Downloading: \"https://github.com/facebookresearch/dinov2/zipball/main\" to /home/barti/.cache/torch/hub/main.zip\n",
      "xFormers not available\n",
      "xFormers not available\n",
      "Downloading: \"https://dl.fbaipublicfiles.com/dinov2/dinov2_vitb14/dinov2_vitb14_pretrain.pth\" to /home/barti/.cache/torch/hub/checkpoints/dinov2_vitb14_pretrain.pth\n",
      "100%|██████████| 330M/330M [00:27<00:00, 12.7MB/s] \n"
     ]
    }
   ],
   "source": [
    "feature_extractor = torch.hub.load('facebookresearch/dinov2',\n",
    "                                                    'dinov2_vitb14')"
   ]
  },
  {
   "cell_type": "code",
   "execution_count": 10,
   "metadata": {},
   "outputs": [
    {
     "data": {
      "text/plain": [
       "torch.Size([4, 768])"
      ]
     },
     "execution_count": 10,
     "metadata": {},
     "output_type": "execute_result"
    }
   ],
   "source": [
    "dummy = torch.randn((4, 3, 224, 224))\n",
    "\n",
    "d = feature_extractor.forward(dummy)\n",
    "\n",
    "d.shape"
   ]
  },
  {
   "cell_type": "code",
   "execution_count": 24,
   "metadata": {},
   "outputs": [
    {
     "name": "stdout",
     "output_type": "stream",
     "text": [
      "torch.Size([5, 5]) torch.Size([2])\n",
      "tensor([[ 0,  1,  2,  3,  4],\n",
      "        [ 5,  6,  7,  8,  9],\n",
      "        [10, 11, 12, 13, 14],\n",
      "        [15, 16, 17, 18, 19],\n",
      "        [20, 21, 22, 23, 24]]) tensor([1, 3])\n"
     ]
    },
    {
     "data": {
      "text/plain": [
       "tensor([[ 5,  6,  7,  8,  9],\n",
       "        [15, 16, 17, 18, 19]])"
      ]
     },
     "execution_count": 24,
     "metadata": {},
     "output_type": "execute_result"
    }
   ],
   "source": [
    "# 5x5 tensor with values from 0 to 24\n",
    "x = torch.arange(25).reshape(5, 5)\n",
    "\n",
    "s = torch.tensor([1, 3])\n",
    "\n",
    "print(x.shape, s.shape)\n",
    "print(x, s)\n",
    "\n",
    "x[s]"
   ]
  },
  {
   "cell_type": "code",
   "execution_count": 38,
   "metadata": {},
   "outputs": [
    {
     "data": {
      "text/plain": [
       "tensor([[2, 2, 2, 2, 2],\n",
       "        [2, 2, 2, 2, 2],\n",
       "        [2, 2, 2, 2, 2],\n",
       "        [2, 2, 2, 2, 2],\n",
       "        [2, 2, 2, 2, 2]])"
      ]
     },
     "execution_count": 38,
     "metadata": {},
     "output_type": "execute_result"
    }
   ],
   "source": [
    "x - (x - 2)"
   ]
  },
  {
   "cell_type": "code",
   "execution_count": 36,
   "metadata": {},
   "outputs": [
    {
     "name": "stdout",
     "output_type": "stream",
     "text": [
      "tensor([[1., 2., 3.],\n",
      "        [6., 7., 8.]])\n",
      "tensor([[4., 5., 6.],\n",
      "        [1., 2., 3.]])\n"
     ]
    },
    {
     "data": {
      "text/plain": [
       "(tensor([[5.1962],\n",
       "         [3.4641]]),\n",
       " 5.196152422706632,\n",
       " 8.660254037844387)"
      ]
     },
     "execution_count": 36,
     "metadata": {},
     "output_type": "execute_result"
    }
   ],
   "source": [
    "#distances between two vectors\n",
    "a = torch.tensor([[1, 2, 3],[6, 7, 8]], dtype=torch.float32)\n",
    "b = torch.tensor([[4, 5, 6],[1, 2, 3]], dtype=torch.float32)\n",
    "\n",
    "print(a)\n",
    "print(b)\n",
    "\n",
    "torch.cdist(a, b)[:, :-1], (9 + 9 + 9)**0.5, (25 + 25 + 25)**0.5"
   ]
  },
  {
   "cell_type": "code",
   "execution_count": 62,
   "metadata": {},
   "outputs": [
    {
     "data": {
      "text/plain": [
       "torch.Size([32, 1])"
      ]
     },
     "execution_count": 62,
     "metadata": {},
     "output_type": "execute_result"
    }
   ],
   "source": [
    "a = torch.randn(32, 10)\n",
    "b = torch.randn(64, 10)\n",
    "\n",
    "# Expand tensor a to match the shape of b\n",
    "# Shape: (32, 1, 10)\n",
    "expanded_a = a.unsqueeze(1).expand(-1, b.shape[0], -1)  # Shape: (32, 64, 10)\n",
    "\n",
    "# Expand tensor b to match the shape of a\n",
    "# Shape: (1, 64, 10)\n",
    "expanded_b = b.unsqueeze(0).expand(a.shape[0], -1, -1)  # Shape: (32, 64, 10)\n",
    "\n",
    "# Calculate the Euclidean distance\n",
    "distance = torch.sqrt(torch.sum((expanded_a - expanded_b) ** 2, dim=-1))  # Shape: (32, 64)\n",
    "\n",
    "torch.all(distance[0] == euclidean_distance(a[0], b))\n",
    "\n",
    "distance.argmin(dim=-1, keepdim=True).shape"
   ]
  },
  {
   "cell_type": "code",
   "execution_count": 70,
   "metadata": {},
   "outputs": [
    {
     "data": {
      "text/plain": [
       "tensor([True, True, True, True, True, True, True, True, True, True, True, True,\n",
       "        True, True, True, True, True, True, True, True, True, True, True, True,\n",
       "        True, True, True, True, True, True, True, True, True, True, True, True,\n",
       "        True, True, True, True, True, True, True, True, True, True, True, True,\n",
       "        True, True, True, True, True, True, True, True, True, True, True, True,\n",
       "        True, True, True, True])"
      ]
     },
     "execution_count": 70,
     "metadata": {},
     "output_type": "execute_result"
    }
   ],
   "source": [
    "def euclidean_distance(x1: torch.Tensor, x2: torch.Tensor) -> torch.Tensor:\n",
    "    \"\"\"\n",
    "    Computes the euclidean distance between two tensors.\n",
    "\n",
    "    Args:\n",
    "        x1 (torch.Tensor): First input tensor.\n",
    "        x2 (torch.Tensor): Second input tensor.\n",
    "\n",
    "    Returns:\n",
    "        torch.Tensor: Euclidean distance between the two tensors of shape (batch_size).\n",
    "    \"\"\"\n",
    "    # assert x1.shape == x2.shape, 'x1 and x2 must have the same shape'\n",
    "    if x1.shape == x2.shape or any([x1.shape[0] == 1, x2.shape[0] == 1]):\n",
    "        return (x1 - x2).pow_(2).sum(dim=-1).sqrt_()\n",
    "    # Expand tensor x1 to match the shape of x2\n",
    "    # Shape: (32, 1, 10)\n",
    "    expanded_x1 = x1.unsqueeze(1).expand(-1, x2.shape[0], -1)\n",
    "\n",
    "    # Expand tensor x2 to match the shape of x1\n",
    "    # Shape: (1, 64, 10)\n",
    "    expanded_x2 = x2.unsqueeze(0).expand(x1.shape[0], -1, -1)\n",
    "\n",
    "    return torch.sqrt(torch.sum((expanded_x1 - expanded_x2) ** 2, dim=-1))\n",
    "\n",
    "euclidean_distance(a[0].unsqueeze(0), b) == euclidean_distance(a, b)[0]"
   ]
  },
  {
   "cell_type": "code",
   "execution_count": 133,
   "metadata": {},
   "outputs": [
    {
     "data": {
      "text/plain": [
       "tensor(0.0625)"
      ]
     },
     "execution_count": 133,
     "metadata": {},
     "output_type": "execute_result"
    }
   ],
   "source": [
    "predictions = euclidean_distance(a, b).argmin(dim=-1)\n",
    "\n",
    "# tensor of shape 32 with random numbers from 0 to 64\n",
    "y = torch.randint(0, 64, (32, ))\n",
    "\n",
    "(predictions == y).sum().float() / y.shape[0]\n"
   ]
  },
  {
   "cell_type": "code",
   "execution_count": 17,
   "metadata": {},
   "outputs": [
    {
     "data": {
      "text/plain": [
       "tensor([[0., 0., 0., 0.],\n",
       "        [0., 0., 0., 0.],\n",
       "        [0., 0., 0., 0.],\n",
       "        [3., 4., 5., 6.],\n",
       "        [0., 0., 0., 0.],\n",
       "        [0., 0., 0., 0.],\n",
       "        [0., 0., 0., 0.],\n",
       "        [0., 0., 0., 0.],\n",
       "        [0., 0., 0., 0.],\n",
       "        [0., 0., 0., 0.]])"
      ]
     },
     "execution_count": 17,
     "metadata": {},
     "output_type": "execute_result"
    }
   ],
   "source": [
    "zz = torch.tensor([[1, 2, 3, 4], [5, 6, 7, 8]], dtype=torch.float).mean(dim=0)\n",
    "\n",
    "dd = torch.zeros((10, 4))\n",
    "dd[3] = zz\n",
    "dd"
   ]
  },
  {
   "cell_type": "code",
   "execution_count": 7,
   "metadata": {},
   "outputs": [
    {
     "data": {
      "text/plain": [
       "torch.Size([1, 256, 768])"
      ]
     },
     "execution_count": 7,
     "metadata": {},
     "output_type": "execute_result"
    }
   ],
   "source": [
    "d['x_norm_patchtokens'].shape"
   ]
  },
  {
   "cell_type": "code",
   "execution_count": 8,
   "metadata": {},
   "outputs": [
    {
     "data": {
      "text/plain": [
       "torch.Size([1, 1536])"
      ]
     },
     "execution_count": 8,
     "metadata": {},
     "output_type": "execute_result"
    }
   ],
   "source": [
    "torch.cat([d['x_norm_clstoken'], d['x_norm_patchtokens'].mean(dim=1)], dim=-1).shape"
   ]
  }
 ],
 "metadata": {
  "kernelspec": {
   "display_name": "pytorch",
   "language": "python",
   "name": "python3"
  },
  "language_info": {
   "codemirror_mode": {
    "name": "ipython",
    "version": 3
   },
   "file_extension": ".py",
   "mimetype": "text/x-python",
   "name": "python",
   "nbconvert_exporter": "python",
   "pygments_lexer": "ipython3",
   "version": "3.10.11"
  },
  "orig_nbformat": 4
 },
 "nbformat": 4,
 "nbformat_minor": 2
}
